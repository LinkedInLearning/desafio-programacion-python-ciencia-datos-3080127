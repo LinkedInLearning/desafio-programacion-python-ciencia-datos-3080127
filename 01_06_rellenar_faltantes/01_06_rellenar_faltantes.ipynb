{
 "cells": [
  {
   "cell_type": "code",
   "execution_count": 1,
   "metadata": {},
   "outputs": [],
   "source": [
    "import pandas as pd"
   ]
  },
  {
   "cell_type": "code",
   "execution_count": 2,
   "metadata": {},
   "outputs": [],
   "source": [
    "df = pd.read_csv('empleados.csv', delimiter=\";\")"
   ]
  },
  {
   "cell_type": "code",
   "execution_count": 3,
   "metadata": {},
   "outputs": [
    {
     "name": "stdout",
     "output_type": "stream",
     "text": [
      "        Nombre       Sexo   Estado_Civil  Edad  Experiencia  Salario Gerencia  \\\n",
      "0    Alexandro  Masculino     Soltero(a)  22.0            3     2423       No   \n",
      "1       Felipa   Femenino     Soltero(a)  26.0            5     2639       No   \n",
      "2       Daniel  Masculino      Casado(a)  35.0           10     3122       No   \n",
      "3         John  Masculino      Casado(a)  35.0           13     3431       Sí   \n",
      "4      Ruperta   Femenino      Casado(a)  54.0           18     3962       No   \n",
      "..         ...        ...            ...   ...          ...      ...      ...   \n",
      "186   Hernando  Masculino  Divorciado(a)  29.0            4     2510       No   \n",
      "187       Vito  Masculino  Divorciado(a)  22.0            4     2530       No   \n",
      "188       Jose  Masculino      Casado(a)  30.0            6     2760       No   \n",
      "189    Marcelo  Masculino  Divorciado(a)  44.0           15     3616       No   \n",
      "190    Leandro  Masculino      Casado(a)  37.0           11     3245       No   \n",
      "\n",
      "             Departamento  \n",
      "0              Publicidad  \n",
      "1               Comercial  \n",
      "2               Comercial  \n",
      "3    Servicios al cliente  \n",
      "4                Producto  \n",
      "..                    ...  \n",
      "186                    IT  \n",
      "187              Producto  \n",
      "188  Servicios al cliente  \n",
      "189                    IT  \n",
      "190              Finanzas  \n",
      "\n",
      "[191 rows x 8 columns]\n"
     ]
    }
   ],
   "source": [
    "print(df)"
   ]
  },
  {
   "cell_type": "code",
   "execution_count": 5,
   "metadata": {},
   "outputs": [
    {
     "name": "stdout",
     "output_type": "stream",
     "text": [
      "Nombre           0\n",
      "Sexo             0\n",
      "Estado_Civil     0\n",
      "Edad            46\n",
      "Experiencia      0\n",
      "Salario          0\n",
      "Gerencia         0\n",
      "Departamento     0\n",
      "dtype: int64\n"
     ]
    }
   ],
   "source": [
    "print(df.isnull().sum())"
   ]
  },
  {
   "cell_type": "code",
   "execution_count": 6,
   "metadata": {},
   "outputs": [],
   "source": [
    "df['Edad'] = df['Edad'].fillna(df['Edad'].mean())"
   ]
  },
  {
   "cell_type": "code",
   "execution_count": 7,
   "metadata": {},
   "outputs": [
    {
     "name": "stdout",
     "output_type": "stream",
     "text": [
      "Nombre          0\n",
      "Sexo            0\n",
      "Estado_Civil    0\n",
      "Edad            0\n",
      "Experiencia     0\n",
      "Salario         0\n",
      "Gerencia        0\n",
      "Departamento    0\n",
      "dtype: int64\n"
     ]
    }
   ],
   "source": [
    "print(df.isnull().sum())"
   ]
  }
 ],
 "metadata": {
  "kernelspec": {
   "display_name": "Python 3.8.11 64-bit",
   "language": "python",
   "name": "python3"
  },
  "language_info": {
   "codemirror_mode": {
    "name": "ipython",
    "version": 3
   },
   "file_extension": ".py",
   "mimetype": "text/x-python",
   "name": "python",
   "nbconvert_exporter": "python",
   "pygments_lexer": "ipython3",
   "version": "3.12.1"
  },
  "orig_nbformat": 4,
  "vscode": {
   "interpreter": {
    "hash": "1ee38ef4a5a9feb55287fd749643f13d043cb0a7addaab2a9c224cbe137c0062"
   }
  }
 },
 "nbformat": 4,
 "nbformat_minor": 2
}
