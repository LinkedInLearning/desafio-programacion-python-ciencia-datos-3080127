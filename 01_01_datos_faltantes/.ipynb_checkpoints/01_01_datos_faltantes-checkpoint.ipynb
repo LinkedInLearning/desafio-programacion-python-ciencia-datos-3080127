{
 "cells": [
  {
   "cell_type": "code",
   "execution_count": 1,
   "metadata": {
    "tags": []
   },
   "outputs": [],
   "source": [
    "import pandas as pd"
   ]
  },
  {
   "cell_type": "code",
   "execution_count": 2,
   "metadata": {
    "tags": []
   },
   "outputs": [],
   "source": [
    "df = pd.read_csv('empleados.csv', delimiter=\";\")"
   ]
  },
  {
   "cell_type": "code",
   "execution_count": 12,
   "metadata": {
    "tags": []
   },
   "outputs": [
    {
     "data": {
      "text/html": [
       "<div>\n",
       "<style scoped>\n",
       "    .dataframe tbody tr th:only-of-type {\n",
       "        vertical-align: middle;\n",
       "    }\n",
       "\n",
       "    .dataframe tbody tr th {\n",
       "        vertical-align: top;\n",
       "    }\n",
       "\n",
       "    .dataframe thead th {\n",
       "        text-align: right;\n",
       "    }\n",
       "</style>\n",
       "<table border=\"1\" class=\"dataframe\">\n",
       "  <thead>\n",
       "    <tr style=\"text-align: right;\">\n",
       "      <th></th>\n",
       "      <th>Nombre</th>\n",
       "      <th>Apellido</th>\n",
       "      <th>Sexo</th>\n",
       "      <th>Estado_Civil</th>\n",
       "      <th>Edad</th>\n",
       "      <th>Experiencia</th>\n",
       "      <th>Salario</th>\n",
       "      <th>Gerencia</th>\n",
       "      <th>Departamento</th>\n",
       "    </tr>\n",
       "  </thead>\n",
       "  <tbody>\n",
       "    <tr>\n",
       "      <th>0</th>\n",
       "      <td>Alexandro</td>\n",
       "      <td>NaN</td>\n",
       "      <td>Masculino</td>\n",
       "      <td>Soltero(a)</td>\n",
       "      <td>22.0</td>\n",
       "      <td>3.0</td>\n",
       "      <td>2423.0</td>\n",
       "      <td>No</td>\n",
       "      <td>Publicidad</td>\n",
       "    </tr>\n",
       "    <tr>\n",
       "      <th>1</th>\n",
       "      <td>Carlos</td>\n",
       "      <td>NaN</td>\n",
       "      <td>Masculino</td>\n",
       "      <td>Casado(a)</td>\n",
       "      <td>38.0</td>\n",
       "      <td>10.0</td>\n",
       "      <td>3132.0</td>\n",
       "      <td>Sí</td>\n",
       "      <td>NaN</td>\n",
       "    </tr>\n",
       "    <tr>\n",
       "      <th>2</th>\n",
       "      <td>Felipa</td>\n",
       "      <td>NaN</td>\n",
       "      <td>Femenino</td>\n",
       "      <td>Soltero(a)</td>\n",
       "      <td>26.0</td>\n",
       "      <td>5.0</td>\n",
       "      <td>2639.0</td>\n",
       "      <td>No</td>\n",
       "      <td>Comercial</td>\n",
       "    </tr>\n",
       "    <tr>\n",
       "      <th>3</th>\n",
       "      <td>Daniel</td>\n",
       "      <td>NaN</td>\n",
       "      <td>Masculino</td>\n",
       "      <td>Casado(a)</td>\n",
       "      <td>35.0</td>\n",
       "      <td>10.0</td>\n",
       "      <td>3122.0</td>\n",
       "      <td>No</td>\n",
       "      <td>Comercial</td>\n",
       "    </tr>\n",
       "    <tr>\n",
       "      <th>4</th>\n",
       "      <td>John</td>\n",
       "      <td>NaN</td>\n",
       "      <td>Masculino</td>\n",
       "      <td>Casado(a)</td>\n",
       "      <td>35.0</td>\n",
       "      <td>13.0</td>\n",
       "      <td>3431.0</td>\n",
       "      <td>Sí</td>\n",
       "      <td>Servicios al cliente</td>\n",
       "    </tr>\n",
       "  </tbody>\n",
       "</table>\n",
       "</div>"
      ],
      "text/plain": [
       "      Nombre  Apellido       Sexo Estado_Civil  Edad  Experiencia  Salario   \n",
       "0  Alexandro       NaN  Masculino   Soltero(a)  22.0          3.0   2423.0  \\\n",
       "1     Carlos       NaN  Masculino    Casado(a)  38.0         10.0   3132.0   \n",
       "2     Felipa       NaN   Femenino   Soltero(a)  26.0          5.0   2639.0   \n",
       "3     Daniel       NaN  Masculino    Casado(a)  35.0         10.0   3122.0   \n",
       "4       John       NaN  Masculino    Casado(a)  35.0         13.0   3431.0   \n",
       "\n",
       "  Gerencia          Departamento  \n",
       "0       No            Publicidad  \n",
       "1       Sí                   NaN  \n",
       "2       No             Comercial  \n",
       "3       No             Comercial  \n",
       "4       Sí  Servicios al cliente  "
      ]
     },
     "execution_count": 12,
     "metadata": {},
     "output_type": "execute_result"
    }
   ],
   "source": [
    "df.head()"
   ]
  },
  {
   "cell_type": "code",
   "execution_count": 5,
   "metadata": {
    "tags": []
   },
   "outputs": [
    {
     "name": "stdout",
     "output_type": "stream",
     "text": [
      "<class 'pandas.core.frame.DataFrame'>\n",
      "RangeIndex: 251 entries, 0 to 250\n",
      "Data columns (total 9 columns):\n",
      " #   Column        Non-Null Count  Dtype  \n",
      "---  ------        --------------  -----  \n",
      " 0   Nombre        245 non-null    object \n",
      " 1   Apellido      0 non-null      float64\n",
      " 2   Sexo          214 non-null    object \n",
      " 3   Estado_Civil  247 non-null    object \n",
      " 4   Edad          190 non-null    float64\n",
      " 5   Experiencia   247 non-null    float64\n",
      " 6   Salario       245 non-null    float64\n",
      " 7   Gerencia      230 non-null    object \n",
      " 8   Departamento  239 non-null    object \n",
      "dtypes: float64(4), object(5)\n",
      "memory usage: 17.8+ KB\n"
     ]
    }
   ],
   "source": [
    "df.info()"
   ]
  },
  {
   "cell_type": "code",
   "execution_count": 9,
   "metadata": {
    "tags": []
   },
   "outputs": [
    {
     "data": {
      "text/plain": [
       "(251, 9)"
      ]
     },
     "execution_count": 9,
     "metadata": {},
     "output_type": "execute_result"
    }
   ],
   "source": [
    "df.shape"
   ]
  },
  {
   "cell_type": "code",
   "execution_count": 10,
   "metadata": {
    "tags": []
   },
   "outputs": [
    {
     "data": {
      "text/plain": [
       "Nombre            6\n",
       "Apellido        251\n",
       "Sexo             37\n",
       "Estado_Civil      4\n",
       "Edad             61\n",
       "Experiencia       4\n",
       "Salario           6\n",
       "Gerencia         21\n",
       "Departamento     12\n",
       "dtype: int64"
      ]
     },
     "execution_count": 10,
     "metadata": {},
     "output_type": "execute_result"
    }
   ],
   "source": [
    "df.isnull().sum()"
   ]
  },
  {
   "cell_type": "code",
   "execution_count": 11,
   "metadata": {
    "tags": []
   },
   "outputs": [
    {
     "data": {
      "text/plain": [
       "Nombre          245\n",
       "Apellido          0\n",
       "Sexo            214\n",
       "Estado_Civil    247\n",
       "Edad            190\n",
       "Experiencia     247\n",
       "Salario         245\n",
       "Gerencia        230\n",
       "Departamento    239\n",
       "dtype: int64"
      ]
     },
     "execution_count": 11,
     "metadata": {},
     "output_type": "execute_result"
    }
   ],
   "source": [
    "df.notnull().sum()"
   ]
  },
  {
   "cell_type": "code",
   "execution_count": null,
   "metadata": {},
   "outputs": [],
   "source": []
  }
 ],
 "metadata": {
  "kernelspec": {
   "display_name": "Python 3 (ipykernel)",
   "language": "python",
   "name": "python3"
  },
  "language_info": {
   "codemirror_mode": {
    "name": "ipython",
    "version": 3
   },
   "file_extension": ".py",
   "mimetype": "text/x-python",
   "name": "python",
   "nbconvert_exporter": "python",
   "pygments_lexer": "ipython3",
   "version": "3.11.2"
  },
  "vscode": {
   "interpreter": {
    "hash": "5e03865693d95533401f4ea870c83e11a848102ed8c132a926ccb8b78fec439f"
   }
  }
 },
 "nbformat": 4,
 "nbformat_minor": 4
}
